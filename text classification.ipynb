{
 "cells": [
  {
   "cell_type": "code",
   "execution_count": 1,
   "metadata": {
    "id": "vNuQWDc1xbPo"
   },
   "outputs": [
    {
     "name": "stderr",
     "output_type": "stream",
     "text": [
      "C:\\Users\\hetan\\.conda\\envs\\pygpu\\lib\\site-packages\\tqdm\\auto.py:21: TqdmWarning: IProgress not found. Please update jupyter and ipywidgets. See https://ipywidgets.readthedocs.io/en/stable/user_install.html\n",
      "  from .autonotebook import tqdm as notebook_tqdm\n"
     ]
    }
   ],
   "source": [
    "import numpy as np\n",
    "import pandas as pd\n",
    "import seaborn as sns\n",
    "import matplotlib.pyplot as plt\n",
    "import tensorflow as tf\n",
    "from collections import defaultdict, Counter\n",
    "import json\n",
    "from transformers import pipeline\n",
    "from transformers import Trainer, TrainingArguments\n",
    "from transformers import AutoModelForSequenceClassification, AutoTokenizer\n",
    "from transformers import DebertaForSequenceClassification\n",
    "from datasets import load_dataset\n",
    "from transformers import DebertaV2ForSequenceClassification, DebertaV2TokenizerFast, Trainer, TrainingArguments, DebertaTokenizerFast\n",
    "from sklearn.metrics import roc_curve, auc\n",
    "from sklearn.preprocessing import label_binarize\n",
    "from itertools import cycle\n",
    "from sklearn.metrics import accuracy_score, precision_recall_fscore_support, confusion_matrix\n",
    "import matplotlib.pyplot as plt\n",
    "import seaborn as sns\n",
    "from sklearn.metrics import confusion_matrix, roc_curve, auc\n",
    "from sklearn.preprocessing import label_binarize\n",
    "from itertools import cycle\n",
    "from transformers import TrainerCallback\n",
    "from transformers import TrainerCallback, EvalPrediction"
   ]
  },
  {
   "cell_type": "code",
   "execution_count": 2,
   "metadata": {
    "colab": {
     "base_uri": "https://localhost:8080/"
    },
    "id": "AW5CGpbPYQMV",
    "outputId": "463cc3ee-780c-43fd-c031-d7e0a595db3b"
   },
   "outputs": [],
   "source": [
    "dataset = load_dataset(\"ag_news\")"
   ]
  },
  {
   "cell_type": "code",
   "execution_count": 3,
   "metadata": {
    "colab": {
     "base_uri": "https://localhost:8080/"
    },
    "id": "AsSAi1OYYQMV",
    "outputId": "f2c26370-2811-44db-dedc-d5c19d548b9f"
   },
   "outputs": [
    {
     "data": {
      "text/plain": [
       "DatasetDict({\n",
       "    train: Dataset({\n",
       "        features: ['text', 'label'],\n",
       "        num_rows: 120000\n",
       "    })\n",
       "    test: Dataset({\n",
       "        features: ['text', 'label'],\n",
       "        num_rows: 7600\n",
       "    })\n",
       "})"
      ]
     },
     "execution_count": 3,
     "metadata": {},
     "output_type": "execute_result"
    }
   ],
   "source": [
    "dataset"
   ]
  },
  {
   "cell_type": "code",
   "execution_count": 4,
   "metadata": {},
   "outputs": [
    {
     "name": "stderr",
     "output_type": "stream",
     "text": [
      "C:\\Users\\hetan\\.conda\\envs\\pygpu\\lib\\site-packages\\huggingface_hub\\file_download.py:1132: FutureWarning: `resume_download` is deprecated and will be removed in version 1.0.0. Downloads always resume when possible. If you want to force a new download, use `force_download=True`.\n",
      "  warnings.warn(\n",
      "The tokenizer class you load from this checkpoint is not the same type as the class this function is called from. It may result in unexpected tokenization. \n",
      "The tokenizer class you load from this checkpoint is 'DebertaV2Tokenizer'. \n",
      "The class this function is called from is 'DebertaTokenizerFast'.\n"
     ]
    }
   ],
   "source": [
    "tokenizer = DebertaTokenizerFast.from_pretrained('sileod/deberta-v3-small-tasksource-nli')"
   ]
  },
  {
   "cell_type": "code",
   "execution_count": 5,
   "metadata": {},
   "outputs": [
    {
     "name": "stdout",
     "output_type": "stream",
     "text": [
      "The maximum length in tokens is: 364\n"
     ]
    }
   ],
   "source": [
    "train_text = dataset['train']['text']\n",
    "\n",
    "# Calculate the maximum length\n",
    "max_token_length = max(len(tokenizer.encode(text)) for text in train_text)\n",
    "print(f\"The maximum length in tokens is: {max_token_length}\")\n"
   ]
  },
  {
   "cell_type": "code",
   "execution_count": 6,
   "metadata": {},
   "outputs": [
    {
     "name": "stdout",
     "output_type": "stream",
     "text": [
      "The maximum length in tokens is: 260\n"
     ]
    }
   ],
   "source": [
    "test_text = dataset['test']['text']\n",
    "\n",
    "# Calculate the maximum length\n",
    "max_token_length = max(len(tokenizer.encode(text)) for text in test_text)\n",
    "print(f\"The maximum length in tokens is: {max_token_length}\")\n"
   ]
  },
  {
   "cell_type": "code",
   "execution_count": 8,
   "metadata": {
    "colab": {
     "base_uri": "https://localhost:8080/"
    },
    "id": "vKuydFBMYQMV",
    "outputId": "b9ac8c45-2c86-4348-f50e-18c22791ccb3",
    "scrolled": true
   },
   "outputs": [
    {
     "name": "stderr",
     "output_type": "stream",
     "text": [
      "Map: 100%|████████████████████████████████████████████████████████████| 120000/120000 [00:14<00:00, 8068.13 examples/s]\n",
      "Some weights of DebertaV2ForSequenceClassification were not initialized from the model checkpoint at sileod/deberta-v3-small-tasksource-nli and are newly initialized because the shapes did not match:\n",
      "- classifier.weight: found shape torch.Size([3, 768]) in the checkpoint and torch.Size([4, 768]) in the model instantiated\n",
      "- classifier.bias: found shape torch.Size([3]) in the checkpoint and torch.Size([4]) in the model instantiated\n",
      "You should probably TRAIN this model on a down-stream task to be able to use it for predictions and inference.\n"
     ]
    }
   ],
   "source": [
    "# from transformers import DebertaV2ForSequenceClassification, DebertaTokenizerFast, Trainer, TrainingArguments\n",
    "\n",
    "# Tokenization function\n",
    "def tokenize_function(examples):\n",
    "    return tokenizer(examples['text'], padding=\"max_length\", truncation=True, max_length=365)\n",
    "\n",
    "# Apply tokenization to your dataset\n",
    "tokenized_datasets = dataset.map(tokenize_function, batched=True)\n",
    "\n",
    "# Load the pre-trained Deberta model ignoring the size mismatches in the classifier layer\n",
    "model = DebertaV2ForSequenceClassification.from_pretrained(\n",
    "    'sileod/deberta-v3-small-tasksource-nli',\n",
    "    num_labels=4,\n",
    "    ignore_mismatched_sizes=True  # This will ignore the classifier weights and biases\n",
    ")\n"
   ]
  },
  {
   "cell_type": "code",
   "execution_count": 9,
   "metadata": {},
   "outputs": [
    {
     "data": {
      "text/plain": [
       "DebertaV2ForSequenceClassification(\n",
       "  (deberta): DebertaV2Model(\n",
       "    (embeddings): DebertaV2Embeddings(\n",
       "      (word_embeddings): Embedding(128100, 768, padding_idx=0)\n",
       "      (LayerNorm): LayerNorm((768,), eps=1e-07, elementwise_affine=True)\n",
       "      (dropout): StableDropout()\n",
       "    )\n",
       "    (encoder): DebertaV2Encoder(\n",
       "      (layer): ModuleList(\n",
       "        (0-5): 6 x DebertaV2Layer(\n",
       "          (attention): DebertaV2Attention(\n",
       "            (self): DisentangledSelfAttention(\n",
       "              (query_proj): Linear(in_features=768, out_features=768, bias=True)\n",
       "              (key_proj): Linear(in_features=768, out_features=768, bias=True)\n",
       "              (value_proj): Linear(in_features=768, out_features=768, bias=True)\n",
       "              (pos_dropout): StableDropout()\n",
       "              (dropout): StableDropout()\n",
       "            )\n",
       "            (output): DebertaV2SelfOutput(\n",
       "              (dense): Linear(in_features=768, out_features=768, bias=True)\n",
       "              (LayerNorm): LayerNorm((768,), eps=1e-07, elementwise_affine=True)\n",
       "              (dropout): StableDropout()\n",
       "            )\n",
       "          )\n",
       "          (intermediate): DebertaV2Intermediate(\n",
       "            (dense): Linear(in_features=768, out_features=3072, bias=True)\n",
       "            (intermediate_act_fn): GELUActivation()\n",
       "          )\n",
       "          (output): DebertaV2Output(\n",
       "            (dense): Linear(in_features=3072, out_features=768, bias=True)\n",
       "            (LayerNorm): LayerNorm((768,), eps=1e-07, elementwise_affine=True)\n",
       "            (dropout): StableDropout()\n",
       "          )\n",
       "        )\n",
       "      )\n",
       "      (rel_embeddings): Embedding(512, 768)\n",
       "      (LayerNorm): LayerNorm((768,), eps=1e-07, elementwise_affine=True)\n",
       "    )\n",
       "  )\n",
       "  (pooler): ContextPooler(\n",
       "    (dense): Linear(in_features=768, out_features=768, bias=True)\n",
       "    (dropout): StableDropout()\n",
       "  )\n",
       "  (classifier): Linear(in_features=768, out_features=4, bias=True)\n",
       "  (dropout): StableDropout()\n",
       ")"
      ]
     },
     "execution_count": 9,
     "metadata": {},
     "output_type": "execute_result"
    }
   ],
   "source": [
    "model"
   ]
  },
  {
   "cell_type": "code",
   "execution_count": 10,
   "metadata": {
    "id": "IqwSb0q9YQMY"
   },
   "outputs": [],
   "source": [
    "# Compute metrics function for evaluation\n",
    "def compute_metrics(eval_pred):\n",
    "    logits, labels = eval_pred\n",
    "    predictions = np.argmax(logits, axis=-1)\n",
    "    return {\n",
    "        \"accuracy\": accuracy_score(labels, predictions),\n",
    "        \"confusion_matrix\": confusion_matrix(labels, predictions).tolist()\n",
    "    }\n",
    "\n",
    "\n",
    "# Training arguments\n",
    "training_args = TrainingArguments(\n",
    "    output_dir='./results',\n",
    "    evaluation_strategy=\"epoch\",\n",
    "    logging_strategy=\"epoch\",\n",
    "    save_strategy=\"epoch\",\n",
    "    learning_rate=2e-5,\n",
    "    #lr_scheduler_type = 'cosine',\n",
    "    per_device_train_batch_size=3,\n",
    "    per_device_eval_batch_size=4,\n",
    "    num_train_epochs=1,\n",
    "    weight_decay=0.01,\n",
    ")\n",
    "\n",
    "# Initialize Trainer\n",
    "trainer = Trainer(\n",
    "    model=model,\n",
    "    args=training_args,\n",
    "    train_dataset=tokenized_datasets['train'],\n",
    "    eval_dataset=tokenized_datasets['test'],\n",
    "    compute_metrics=compute_metrics,\n",
    ")"
   ]
  },
  {
   "cell_type": "code",
   "execution_count": 11,
   "metadata": {
    "colab": {
     "base_uri": "https://localhost:8080/",
     "height": 75
    },
    "id": "_QWr8PdrdaYu",
    "outputId": "8efb6e80-aa69-4d35-d4d1-ada7df58ee28"
   },
   "outputs": [
    {
     "data": {
      "text/html": [
       "\n",
       "    <div>\n",
       "      \n",
       "      <progress value='40000' max='40000' style='width:300px; height:20px; vertical-align: middle;'></progress>\n",
       "      [40000/40000 2:42:14, Epoch 1/1]\n",
       "    </div>\n",
       "    <table border=\"1\" class=\"dataframe\">\n",
       "  <thead>\n",
       " <tr style=\"text-align: left;\">\n",
       "      <th>Epoch</th>\n",
       "      <th>Training Loss</th>\n",
       "      <th>Validation Loss</th>\n",
       "      <th>Accuracy</th>\n",
       "      <th>Confusion Matrix</th>\n",
       "    </tr>\n",
       "  </thead>\n",
       "  <tbody>\n",
       "    <tr>\n",
       "      <td>1</td>\n",
       "      <td>0.348900</td>\n",
       "      <td>0.278706</td>\n",
       "      <td>0.943289</td>\n",
       "      <td>[[1798, 15, 49, 38], [10, 1877, 8, 5], [42, 7, 1719, 132], [34, 6, 85, 1775]]</td>\n",
       "    </tr>\n",
       "  </tbody>\n",
       "</table><p>"
      ],
      "text/plain": [
       "<IPython.core.display.HTML object>"
      ]
     },
     "metadata": {},
     "output_type": "display_data"
    },
    {
     "name": "stderr",
     "output_type": "stream",
     "text": [
      "Trainer is attempting to log a value of \"[[1798, 15, 49, 38], [10, 1877, 8, 5], [42, 7, 1719, 132], [34, 6, 85, 1775]]\" of type <class 'list'> for key \"eval/confusion_matrix\" as a scalar. This invocation of Tensorboard's writer.add_scalar() is incorrect so we dropped this attribute.\n"
     ]
    },
    {
     "data": {
      "text/plain": [
       "TrainOutput(global_step=40000, training_loss=0.3489337646484375, metrics={'train_runtime': 9734.679, 'train_samples_per_second': 12.327, 'train_steps_per_second': 4.109, 'total_flos': 1.13329798416e+16, 'train_loss': 0.3489337646484375, 'epoch': 1.0})"
      ]
     },
     "execution_count": 11,
     "metadata": {},
     "output_type": "execute_result"
    }
   ],
   "source": [
    "# Train and evaluate the model\n",
    "trainer.train()"
   ]
  },
  {
   "cell_type": "code",
   "execution_count": 12,
   "metadata": {
    "id": "5_YgK913kcTV"
   },
   "outputs": [
    {
     "data": {
      "text/html": [
       "\n",
       "    <div>\n",
       "      \n",
       "      <progress value='1900' max='1900' style='width:300px; height:20px; vertical-align: middle;'></progress>\n",
       "      [1900/1900 02:11]\n",
       "    </div>\n",
       "    "
      ],
      "text/plain": [
       "<IPython.core.display.HTML object>"
      ]
     },
     "metadata": {},
     "output_type": "display_data"
    },
    {
     "name": "stderr",
     "output_type": "stream",
     "text": [
      "Trainer is attempting to log a value of \"[[1798, 15, 49, 38], [10, 1877, 8, 5], [42, 7, 1719, 132], [34, 6, 85, 1775]]\" of type <class 'list'> for key \"eval/confusion_matrix\" as a scalar. This invocation of Tensorboard's writer.add_scalar() is incorrect so we dropped this attribute.\n"
     ]
    }
   ],
   "source": [
    "results = trainer.evaluate()"
   ]
  },
  {
   "cell_type": "markdown",
   "metadata": {
    "id": "xQlyC56vadGz"
   },
   "source": []
  },
  {
   "cell_type": "code",
   "execution_count": 13,
   "metadata": {
    "colab": {
     "base_uri": "https://localhost:8080/",
     "height": 144
    },
    "id": "QULmLkcujmn8",
    "outputId": "285a8f99-6e0c-427a-e8d1-8ef512efa156"
   },
   "outputs": [
    {
     "data": {
      "text/plain": [
       "{'eval_loss': 0.2787061333656311,\n",
       " 'eval_accuracy': 0.9432894736842106,\n",
       " 'eval_confusion_matrix': [[1798, 15, 49, 38],\n",
       "  [10, 1877, 8, 5],\n",
       "  [42, 7, 1719, 132],\n",
       "  [34, 6, 85, 1775]],\n",
       " 'eval_runtime': 131.7618,\n",
       " 'eval_samples_per_second': 57.68,\n",
       " 'eval_steps_per_second': 14.42,\n",
       " 'epoch': 1.0}"
      ]
     },
     "execution_count": 13,
     "metadata": {},
     "output_type": "execute_result"
    }
   ],
   "source": [
    "results"
   ]
  },
  {
   "cell_type": "code",
   "execution_count": 14,
   "metadata": {
    "colab": {
     "base_uri": "https://localhost:8080/",
     "height": 557
    },
    "id": "YTTH6N2AetD2",
    "outputId": "555bd180-bd36-4731-bc80-ce66fca91804"
   },
   "outputs": [
    {
     "data": {
      "image/png": "[encoded data removed]",
      "text/plain": [
       "<Figure size 800x600 with 2 Axes>"
      ]
     },
     "metadata": {},
     "output_type": "display_data"
    }
   ],
   "source": [
    "import matplotlib.pyplot as plt\n",
    "import seaborn as sns\n",
    "\n",
    "confusion_matrix = np.array(results['eval_confusion_matrix'])\n",
    "plt.figure(figsize=(8, 6))\n",
    "sns.heatmap(confusion_matrix, annot=True, fmt='d', cmap='Blues')\n",
    "plt.xlabel('Predicted Labels')\n",
    "plt.ylabel('True Labels')\n",
    "plt.title('Confusion Matrix')\n",
    "plt.show()"
   ]
  },
  {
   "cell_type": "code",
   "execution_count": 15,
   "metadata": {
    "colab": {
     "base_uri": "https://localhost:8080/",
     "height": 162
    },
    "id": "5F0VDaP4jwpp",
    "outputId": "84261dda-fece-4360-9ad7-c41602f69269"
   },
   "outputs": [
    {
     "data": {
      "text/plain": [
       "('mda760_model\\\\tokenizer_config.json',\n",
       " 'mda760_model\\\\special_tokens_map.json',\n",
       " 'mda760_model\\\\unigram.json',\n",
       " 'mda760_model\\\\added_tokens.json',\n",
       " 'mda760_model\\\\tokenizer.json')"
      ]
     },
     "execution_count": 15,
     "metadata": {},
     "output_type": "execute_result"
    }
   ],
   "source": [
    "model_path = 'mda760_model'\n",
    "model.save_pretrained(model_path)\n",
    "tokenizer.save_pretrained(model_path)"
   ]
  },
  {
   "cell_type": "markdown",
   "metadata": {
    "id": "wM-YGNFrvUlk"
   },
   "source": [
    "# Using the fine-tuned model"
   ]
  },
  {
   "cell_type": "code",
   "execution_count": 1,
   "metadata": {},
   "outputs": [
    {
     "name": "stderr",
     "output_type": "stream",
     "text": [
      "C:\\Users\\hetan\\.conda\\envs\\pygpu\\lib\\site-packages\\tqdm\\auto.py:21: TqdmWarning: IProgress not found. Please update jupyter and ipywidgets. See https://ipywidgets.readthedocs.io/en/stable/user_install.html\n",
      "  from .autonotebook import tqdm as notebook_tqdm\n"
     ]
    },
    {
     "data": {
      "text/plain": [
       "DebertaV2ForSequenceClassification(\n",
       "  (deberta): DebertaV2Model(\n",
       "    (embeddings): DebertaV2Embeddings(\n",
       "      (word_embeddings): Embedding(128100, 768, padding_idx=0)\n",
       "      (LayerNorm): LayerNorm((768,), eps=1e-07, elementwise_affine=True)\n",
       "      (dropout): StableDropout()\n",
       "    )\n",
       "    (encoder): DebertaV2Encoder(\n",
       "      (layer): ModuleList(\n",
       "        (0-5): 6 x DebertaV2Layer(\n",
       "          (attention): DebertaV2Attention(\n",
       "            (self): DisentangledSelfAttention(\n",
       "              (query_proj): Linear(in_features=768, out_features=768, bias=True)\n",
       "              (key_proj): Linear(in_features=768, out_features=768, bias=True)\n",
       "              (value_proj): Linear(in_features=768, out_features=768, bias=True)\n",
       "              (pos_dropout): StableDropout()\n",
       "              (dropout): StableDropout()\n",
       "            )\n",
       "            (output): DebertaV2SelfOutput(\n",
       "              (dense): Linear(in_features=768, out_features=768, bias=True)\n",
       "              (LayerNorm): LayerNorm((768,), eps=1e-07, elementwise_affine=True)\n",
       "              (dropout): StableDropout()\n",
       "            )\n",
       "          )\n",
       "          (intermediate): DebertaV2Intermediate(\n",
       "            (dense): Linear(in_features=768, out_features=3072, bias=True)\n",
       "            (intermediate_act_fn): GELUActivation()\n",
       "          )\n",
       "          (output): DebertaV2Output(\n",
       "            (dense): Linear(in_features=3072, out_features=768, bias=True)\n",
       "            (LayerNorm): LayerNorm((768,), eps=1e-07, elementwise_affine=True)\n",
       "            (dropout): StableDropout()\n",
       "          )\n",
       "        )\n",
       "      )\n",
       "      (rel_embeddings): Embedding(512, 768)\n",
       "      (LayerNorm): LayerNorm((768,), eps=1e-07, elementwise_affine=True)\n",
       "    )\n",
       "  )\n",
       "  (pooler): ContextPooler(\n",
       "    (dense): Linear(in_features=768, out_features=768, bias=True)\n",
       "    (dropout): StableDropout()\n",
       "  )\n",
       "  (classifier): Linear(in_features=768, out_features=4, bias=True)\n",
       "  (dropout): StableDropout()\n",
       ")"
      ]
     },
     "execution_count": 1,
     "metadata": {},
     "output_type": "execute_result"
    }
   ],
   "source": [
    "from transformers import DebertaV2ForSequenceClassification, DebertaTokenizerFast\n",
    "import torch\n",
    "model_path = 'mda760_model'  # Adjust this to the path where your model is saved\n",
    "model = DebertaV2ForSequenceClassification.from_pretrained(model_path)\n",
    "tokenizer = DebertaTokenizerFast.from_pretrained(model_path)\n",
    "model.eval()  # Set the model to evaluation mode"
   ]
  },
  {
   "cell_type": "markdown",
   "metadata": {},
   "source": [
    "## Classes:\n",
    "0 : World\n",
    "1 : Sports\n",
    "2 : Business\n",
    "3 : Sci/Tech"
   ]
  },
  {
   "cell_type": "code",
   "execution_count": 2,
   "metadata": {},
   "outputs": [
    {
     "name": "stdout",
     "output_type": "stream",
     "text": [
      "Statement: Global leaders meet to discuss climate change solutions.\n",
      "  Most likely class: World with probability 0.9369\n",
      "\n",
      "Statement: Recent elections in Brazil have led to a surprising shift in leadership.\n",
      "  Most likely class: World with probability 0.9948\n",
      "\n",
      "Statement: The United Nations calls for immediate action on humanitarian crisis in Yemen.\n",
      "  Most likely class: World with probability 0.9999\n",
      "\n",
      "Statement: Diplomatic tensions escalate as trade talks between the U.S. and China stall.\n",
      "  Most likely class: World with probability 0.9885\n",
      "\n",
      "Statement: European countries consider more stringent border controls in response to rising migration.\n",
      "  Most likely class: World with probability 0.9977\n",
      "\n",
      "Statement: The Tokyo Olympics showcased outstanding performances in track and field.\n",
      "  Most likely class: World with probability 0.9932\n",
      "\n",
      "Statement: Manchester United wins the Premier League after a dramatic final match.\n",
      "  Most likely class: World with probability 0.9973\n",
      "\n",
      "Statement: Serena Williams announces retirement from professional tennis.\n",
      "  Most likely class: World with probability 0.9972\n",
      "\n",
      "Statement: NBA finals draw record viewership as the Lakers clinch the championship.\n",
      "  Most likely class: World with probability 0.9418\n",
      "\n",
      "Statement: FIFA World Cup to be held in Qatar faces criticism over labor conditions.\n",
      "  Most likely class: World with probability 0.9970\n",
      "\n",
      "Statement: Tech stocks rally as new AI applications show promise for future growth.\n",
      "  Most likely class: Sci/Tech with probability 0.9748\n",
      "\n",
      "Statement: Amazon acquires a self-driving car startup in a multi-billion dollar deal.\n",
      "  Most likely class: Sci/Tech with probability 0.9616\n",
      "\n",
      "Statement: Global oil prices dip below $40 a barrel amid increased production.\n",
      "  Most likely class: Business with probability 0.9979\n",
      "\n",
      "Statement: Apple launches a new innovative smartphone with advanced privacy features.\n",
      "  Most likely class: Sci/Tech with probability 0.9993\n",
      "\n",
      "Statement: Real estate prices soar in urban areas as remote work increases demand for larger spaces.\n",
      "  Most likely class: Business with probability 0.9965\n",
      "\n",
      "Statement: NASA plans new mission to Mars to search for signs of past life.\n",
      "  Most likely class: Sci/Tech with probability 0.9991\n",
      "\n",
      "Statement: Breakthrough in quantum computing could revolutionize data security.\n",
      "  Most likely class: Sci/Tech with probability 0.9993\n",
      "\n",
      "Statement: Researchers discover a new sustainable energy source that could replace fossil fuels.\n",
      "  Most likely class: Sci/Tech with probability 0.9810\n",
      "\n",
      "Statement: The latest update to Python enhances speed and efficiency for developers.\n",
      "  Most likely class: Sci/Tech with probability 0.9992\n",
      "\n",
      "Statement: Artificial intelligence now able to diagnose diseases with accuracy surpassing human doctors.\n",
      "  Most likely class: Sci/Tech with probability 0.9961\n",
      "\n"
     ]
    }
   ],
   "source": [
    "# Example statements\n",
    "statements = [\n",
    "    # World\n",
    "    \"Global leaders meet to discuss climate change solutions.\",\n",
    "    \"Recent elections in Brazil have led to a surprising shift in leadership.\",\n",
    "    \"The United Nations calls for immediate action on humanitarian crisis in Yemen.\",\n",
    "    \"Diplomatic tensions escalate as trade talks between the U.S. and China stall.\",\n",
    "    \"European countries consider more stringent border controls in response to rising migration.\",\n",
    "\n",
    "    # Sports\n",
    "    \"The Tokyo Olympics showcased outstanding performances in track and field.\",\n",
    "    \"Manchester United wins the Premier League after a dramatic final match.\",\n",
    "    \"Serena Williams announces retirement from professional tennis.\",\n",
    "    \"NBA finals draw record viewership as the Lakers clinch the championship.\",\n",
    "    \"FIFA World Cup to be held in Qatar faces criticism over labor conditions.\",\n",
    "\n",
    "    # Business\n",
    "    \"Tech stocks rally as new AI applications show promise for future growth.\",\n",
    "    \"Amazon acquires a self-driving car startup in a multi-billion dollar deal.\",\n",
    "    \"Global oil prices dip below $40 a barrel amid increased production.\",\n",
    "    \"Apple launches a new innovative smartphone with advanced privacy features.\",\n",
    "    \"Real estate prices soar in urban areas as remote work increases demand for larger spaces.\",\n",
    "\n",
    "    # Sci/Tech\n",
    "    \"NASA plans new mission to Mars to search for signs of past life.\",\n",
    "    \"Breakthrough in quantum computing could revolutionize data security.\",\n",
    "    \"Researchers discover a new sustainable energy source that could replace fossil fuels.\",\n",
    "    \"The latest update to Python enhances speed and efficiency for developers.\",\n",
    "    \"Artificial intelligence now able to diagnose diseases with accuracy surpassing human doctors.\"\n",
    "]\n",
    "\n",
    "\n",
    "# Tokenize all statements at once\n",
    "inputs = tokenizer(statements, return_tensors=\"pt\", padding=True, truncation=True, max_length=365)\n",
    "\n",
    "# Move model to the appropriate device\n",
    "if torch.cuda.is_available():\n",
    "    model.to('cuda')\n",
    "    inputs = {k: v.to('cuda') for k, v in inputs.items()}\n",
    "\n",
    "# Predict\n",
    "with torch.no_grad():\n",
    "    outputs = model(**inputs)\n",
    "    probabilities = torch.nn.functional.softmax(outputs.logits, dim=-1)\n",
    "\n",
    "class_names = ['World', 'Sports', 'Business', 'Sci/Tech']  # Adjust based on your classes\n",
    "probabilities = probabilities.cpu().numpy()\n",
    "\n",
    "# Print probabilities with corresponding class names\n",
    "for idx, statement_probs in enumerate(probabilities):\n",
    "    best_prob_index = statement_probs.argmax()  # Get the index of the highest probability\n",
    "    best_class = class_names[best_prob_index]\n",
    "    best_probability = statement_probs[best_prob_index]\n",
    "    print(f\"Statement: {statements[idx]}\")\n",
    "    print(f\"  Most likely class: {best_class} with probability {best_probability:.4f}\")\n",
    "    print()"
   ]
  },
  {
   "cell_type": "markdown",
   "metadata": {},
   "source": [
    "## Original model"
   ]
  },
  {
   "cell_type": "code",
   "execution_count": 16,
   "metadata": {},
   "outputs": [],
   "source": [
    "from transformers import pipeline\n",
    "\n",
    "# Initialize the zero-shot classification pipeline\n",
    "classifier = pipeline(\"zero-shot-classification\", model=\"sileod/deberta-v3-base-tasksource-nli\")"
   ]
  },
  {
   "cell_type": "code",
   "execution_count": 20,
   "metadata": {},
   "outputs": [],
   "source": [
    "statements = [\n",
    "    # World\n",
    "    \"Global leaders meet to discuss climate change solutions.\",\n",
    "    \"Recent elections in Brazil have led to a surprising shift in leadership.\",\n",
    "    \"The United Nations calls for immediate action on humanitarian crisis in Yemen.\",\n",
    "    \"Diplomatic tensions escalate as trade talks between the U.S. and China stall.\",\n",
    "    \"European countries consider more stringent border controls in response to rising migration.\",\n",
    "\n",
    "    # Sports\n",
    "    \"The Tokyo Olympics showcased outstanding performances in track and field.\",\n",
    "    \"Manchester United wins the Premier League after a dramatic final match.\",\n",
    "    \"Serena Williams announces retirement from professional tennis.\",\n",
    "    \"NBA finals draw record viewership as the Lakers clinch the championship.\",\n",
    "    \"FIFA World Cup to be held in Qatar faces criticism over labor conditions.\",\n",
    "\n",
    "    # Business\n",
    "    \"Tech stocks rally as new AI applications show promise for future growth.\",\n",
    "    \"Amazon acquires a self-driving car startup in a multi-billion dollar deal.\",\n",
    "    \"Global oil prices dip below $40 a barrel amid increased production.\",\n",
    "    \"Apple launches a new innovative smartphone with advanced privacy features.\",\n",
    "    \"Real estate prices soar in urban areas as remote work increases demand for larger spaces.\",\n",
    "\n",
    "    # Sci/Tech\n",
    "    \"NASA plans new mission to Mars to search for signs of past life.\",\n",
    "    \"Breakthrough in quantum computing could revolutionize data security.\",\n",
    "    \"Researchers discover a new sustainable energy source that could replace fossil fuels.\",\n",
    "    \"The latest update to Python enhances speed and efficiency for developers.\",\n",
    "    \"Artificial intelligence now able to diagnose diseases with accuracy surpassing human doctors.\"\n",
    "]\n",
    "\n",
    "# Candidate labels\n",
    "candidate_labels = ['World', 'Sports', 'Business', 'Sci/Tech']"
   ]
  },
  {
   "cell_type": "code",
   "execution_count": 21,
   "metadata": {},
   "outputs": [],
   "source": [
    "# Classify each statement\n",
    "results = []\n",
    "for text in statements:\n",
    "    result = classifier(text, candidate_labels)\n",
    "    results.append(result)"
   ]
  },
  {
   "cell_type": "code",
   "execution_count": 22,
   "metadata": {},
   "outputs": [
    {
     "name": "stdout",
     "output_type": "stream",
     "text": [
      "Statement: Global leaders meet to discuss climate change solutions.\n",
      "  Label: World, Score: 0.4189\n",
      "  Label: Sci/Tech, Score: 0.3878\n",
      "  Label: Business, Score: 0.1515\n",
      "  Label: Sports, Score: 0.0417\n",
      "\n",
      "Statement: Recent elections in Brazil have led to a surprising shift in leadership.\n",
      "  Label: World, Score: 0.4536\n",
      "  Label: Sports, Score: 0.1956\n",
      "  Label: Business, Score: 0.1787\n",
      "  Label: Sci/Tech, Score: 0.1721\n",
      "\n",
      "Statement: The United Nations calls for immediate action on humanitarian crisis in Yemen.\n",
      "  Label: World, Score: 0.5142\n",
      "  Label: Sci/Tech, Score: 0.2783\n",
      "  Label: Business, Score: 0.1166\n",
      "  Label: Sports, Score: 0.0908\n",
      "\n",
      "Statement: Diplomatic tensions escalate as trade talks between the U.S. and China stall.\n",
      "  Label: Business, Score: 0.4580\n",
      "  Label: World, Score: 0.3601\n",
      "  Label: Sci/Tech, Score: 0.1224\n",
      "  Label: Sports, Score: 0.0594\n",
      "\n",
      "Statement: European countries consider more stringent border controls in response to rising migration.\n",
      "  Label: World, Score: 0.4028\n",
      "  Label: Sci/Tech, Score: 0.2968\n",
      "  Label: Business, Score: 0.1849\n",
      "  Label: Sports, Score: 0.1155\n",
      "\n",
      "Statement: The Tokyo Olympics showcased outstanding performances in track and field.\n",
      "  Label: Sports, Score: 0.8915\n",
      "  Label: World, Score: 0.0652\n",
      "  Label: Sci/Tech, Score: 0.0243\n",
      "  Label: Business, Score: 0.0191\n",
      "\n",
      "Statement: Manchester United wins the Premier League after a dramatic final match.\n",
      "  Label: Sports, Score: 0.8783\n",
      "  Label: Business, Score: 0.0542\n",
      "  Label: World, Score: 0.0371\n",
      "  Label: Sci/Tech, Score: 0.0304\n",
      "\n",
      "Statement: Serena Williams announces retirement from professional tennis.\n",
      "  Label: Sports, Score: 0.8254\n",
      "  Label: Business, Score: 0.0691\n",
      "  Label: Sci/Tech, Score: 0.0658\n",
      "  Label: World, Score: 0.0397\n",
      "\n",
      "Statement: NBA finals draw record viewership as the Lakers clinch the championship.\n",
      "  Label: Sports, Score: 0.8972\n",
      "  Label: Business, Score: 0.0465\n",
      "  Label: World, Score: 0.0328\n",
      "  Label: Sci/Tech, Score: 0.0235\n",
      "\n",
      "Statement: FIFA World Cup to be held in Qatar faces criticism over labor conditions.\n",
      "  Label: Sports, Score: 0.6897\n",
      "  Label: World, Score: 0.1689\n",
      "  Label: Business, Score: 0.1078\n",
      "  Label: Sci/Tech, Score: 0.0337\n",
      "\n",
      "Statement: Tech stocks rally as new AI applications show promise for future growth.\n",
      "  Label: Sci/Tech, Score: 0.6175\n",
      "  Label: Business, Score: 0.2458\n",
      "  Label: World, Score: 0.0932\n",
      "  Label: Sports, Score: 0.0435\n",
      "\n",
      "Statement: Amazon acquires a self-driving car startup in a multi-billion dollar deal.\n",
      "  Label: Business, Score: 0.5880\n",
      "  Label: Sci/Tech, Score: 0.3627\n",
      "  Label: World, Score: 0.0287\n",
      "  Label: Sports, Score: 0.0207\n",
      "\n",
      "Statement: Global oil prices dip below $40 a barrel amid increased production.\n",
      "  Label: World, Score: 0.4348\n",
      "  Label: Business, Score: 0.3950\n",
      "  Label: Sci/Tech, Score: 0.1248\n",
      "  Label: Sports, Score: 0.0454\n",
      "\n",
      "Statement: Apple launches a new innovative smartphone with advanced privacy features.\n",
      "  Label: Sci/Tech, Score: 0.6847\n",
      "  Label: World, Score: 0.1285\n",
      "  Label: Business, Score: 0.1188\n",
      "  Label: Sports, Score: 0.0681\n",
      "\n",
      "Statement: Real estate prices soar in urban areas as remote work increases demand for larger spaces.\n",
      "  Label: Business, Score: 0.5848\n",
      "  Label: Sci/Tech, Score: 0.1742\n",
      "  Label: World, Score: 0.1472\n",
      "  Label: Sports, Score: 0.0938\n",
      "\n",
      "Statement: NASA plans new mission to Mars to search for signs of past life.\n",
      "  Label: Sci/Tech, Score: 0.7867\n",
      "  Label: Business, Score: 0.1006\n",
      "  Label: World, Score: 0.0721\n",
      "  Label: Sports, Score: 0.0406\n",
      "\n",
      "Statement: Breakthrough in quantum computing could revolutionize data security.\n",
      "  Label: Sci/Tech, Score: 0.8902\n",
      "  Label: Business, Score: 0.0532\n",
      "  Label: World, Score: 0.0392\n",
      "  Label: Sports, Score: 0.0174\n",
      "\n",
      "Statement: Researchers discover a new sustainable energy source that could replace fossil fuels.\n",
      "  Label: Sci/Tech, Score: 0.8356\n",
      "  Label: Business, Score: 0.0762\n",
      "  Label: World, Score: 0.0633\n",
      "  Label: Sports, Score: 0.0249\n",
      "\n",
      "Statement: The latest update to Python enhances speed and efficiency for developers.\n",
      "  Label: Sci/Tech, Score: 0.4035\n",
      "  Label: Business, Score: 0.2771\n",
      "  Label: World, Score: 0.1995\n",
      "  Label: Sports, Score: 0.1200\n",
      "\n",
      "Statement: Artificial intelligence now able to diagnose diseases with accuracy surpassing human doctors.\n",
      "  Label: Sci/Tech, Score: 0.8442\n",
      "  Label: World, Score: 0.0733\n",
      "  Label: Business, Score: 0.0492\n",
      "  Label: Sports, Score: 0.0333\n",
      "\n"
     ]
    }
   ],
   "source": [
    "# Print classification results for each statement\n",
    "for statement, result in zip(statements, results):\n",
    "    print(f\"Statement: {statement}\")\n",
    "    for label, score in zip(result['labels'], result['scores']):\n",
    "        print(f\"  Label: {label}, Score: {score:.4f}\")\n",
    "    print()"
   ]
  },
  {
   "cell_type": "code",
   "execution_count": null,
   "metadata": {},
   "outputs": [],
   "source": []
  }
 ],
 "metadata": {
  "accelerator": "TPU",
  "colab": {
   "provenance": []
  },
  "kernelspec": {
   "display_name": "Python 3 (ipykernel)",
   "language": "python",
   "name": "python3"
  },
  "language_info": {
   "codemirror_mode": {
    "name": "ipython",
    "version": 3
   },
   "file_extension": ".py",
   "mimetype": "text/x-python",
   "name": "python",
   "nbconvert_exporter": "python",
   "pygments_lexer": "ipython3",
   "version": "3.10.14"
  }
 },
 "nbformat": 4,
 "nbformat_minor": 4
}
